{
  "nbformat": 4,
  "nbformat_minor": 0,
  "metadata": {
    "colab": {
      "provenance": [],
      "authorship_tag": "ABX9TyNIUblrwq4ONMR7TMhRciOC",
      "include_colab_link": true
    },
    "kernelspec": {
      "name": "python3",
      "display_name": "Python 3"
    },
    "language_info": {
      "name": "python"
    }
  },
  "cells": [
    {
      "cell_type": "markdown",
      "metadata": {
        "id": "view-in-github",
        "colab_type": "text"
      },
      "source": [
        "<a href=\"https://colab.research.google.com/github/Adnan8015/Gen-AI/blob/main/GenAI_Intro.ipynb\" target=\"_parent\"><img src=\"https://colab.research.google.com/assets/colab-badge.svg\" alt=\"Open In Colab\"/></a>"
      ]
    },
    {
      "cell_type": "markdown",
      "source": [
        "# GenAI Pipeline"
      ],
      "metadata": {
        "id": "i-K1gy4rFiSi"
      }
    },
    {
      "cell_type": "code",
      "execution_count": null,
      "metadata": {
        "id": "nxmskyxQFfic"
      },
      "outputs": [],
      "source": [
        "Data acquisition\n",
        "Data preparation\n",
        "Feature Engineering\n",
        "Modeling\n",
        "Evaluation\n",
        "Deployment\n",
        "Monitoring & Model Updating"
      ]
    },
    {
      "cell_type": "markdown",
      "source": [
        "**Data Acquisition**"
      ],
      "metadata": {
        "id": "sSUOUNWQGQvg"
      }
    },
    {
      "cell_type": "code",
      "source": [
        "\"\"\"\n",
        "\n",
        "  Check whether you have available data (CSV, Txt, Json)\n",
        "  Fectch data from API\n",
        "  Web scrapping\n",
        "  Use open AI GPT model to create synthetic data\n",
        "  If have less data do data augmentation(replace with synonyms, Back Translate(English -> Bangla -> French -> English))\n",
        "\n",
        "\n",
        "\"\"\""
      ],
      "metadata": {
        "id": "3ZLvucmLF4a_"
      },
      "execution_count": null,
      "outputs": []
    },
    {
      "cell_type": "markdown",
      "source": [
        "**Data Preprocessing**"
      ],
      "metadata": {
        "id": "Bu95pYckIWPz"
      }
    },
    {
      "cell_type": "code",
      "source": [
        "\n",
        "\n",
        "Basic Preprocessing\n",
        "----------------------\n",
        "\n",
        "Tokenization\n",
        "(1) Sentence Level Tokenization\n",
        "(2) Word Level Tokenization\n",
        "\n",
        "\n",
        "\n",
        "Optional Preprocessing\n",
        "-------------------------\n",
        "(1) Stop word removal\n",
        "(2) Stemming ---> Less Used ; Bring word to root representation (play, played, playing ---> Play), sometimes root is not readable\n",
        "(3) Lemmatization ---> More Used ; same like stemming, but root is always readable\n",
        "(4) Punctuation Removal\n",
        "(5) Lower case\n",
        "(6) Language Detection\n",
        "\n",
        "\n",
        "Advance Preprocessing\n",
        "-----------------------\n",
        "\n",
        "(1) Parts of Speech Tagging\n",
        "(2) Parsing\n",
        "(3) Co reference resolution"
      ],
      "metadata": {
        "id": "g12BSMkaF4oN"
      },
      "execution_count": null,
      "outputs": []
    },
    {
      "cell_type": "markdown",
      "source": [
        "**Feature Engineering**"
      ],
      "metadata": {
        "id": "jCMgASRzfkV5"
      }
    },
    {
      "cell_type": "code",
      "source": [
        "Text Vectorization\n",
        "--------------------\n",
        "\n",
        "TF-IDF\n",
        "Bag of Words\n",
        "Word2Vec\n",
        "One hot Encoding\n",
        "Transformer Models\n"
      ],
      "metadata": {
        "id": "uXZ-yaRPfmzD"
      },
      "execution_count": null,
      "outputs": []
    },
    {
      "cell_type": "markdown",
      "source": [
        "**Models**"
      ],
      "metadata": {
        "id": "srl8FkfQf4zC"
      }
    },
    {
      "cell_type": "code",
      "source": [
        "(1) Open Source LLMs\n",
        "(2) Paid LLMs\n",
        "\n",
        "Paid models do not need to be downloaded. They will be available in server\n",
        "\n",
        "Like OpenAI will upload data and in their server it will train the model"
      ],
      "metadata": {
        "id": "huRlshITf6Ym"
      },
      "execution_count": null,
      "outputs": []
    },
    {
      "cell_type": "markdown",
      "source": [
        "**Evaluation**"
      ],
      "metadata": {
        "id": "SK2J3GhUgua7"
      }
    },
    {
      "cell_type": "code",
      "source": [
        "(1) Intrinsive evaluation ---> Use Matrix\n",
        "(2) Extrinsive evaluation ---> After deployment"
      ],
      "metadata": {
        "id": "naajYQRWgwd3"
      },
      "execution_count": null,
      "outputs": []
    },
    {
      "cell_type": "markdown",
      "source": [
        "# Common Terms"
      ],
      "metadata": {
        "id": "C6KMGoPEk99Z"
      }
    },
    {
      "cell_type": "code",
      "source": [
        "Corpus ---> Entire Text\n",
        "Vocabulary ---> Unique word\n",
        "Document ---> One line\n",
        "Word ---> One single word"
      ],
      "metadata": {
        "id": "ijl2UnTylAPP"
      },
      "execution_count": null,
      "outputs": []
    }
  ]
}